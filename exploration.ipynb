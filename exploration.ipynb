{
 "cells": [
  {
   "cell_type": "code",
   "execution_count": 1,
   "metadata": {},
   "outputs": [],
   "source": [
    "import pandas as pd\n",
    "import numpy as np"
   ]
  },
  {
   "cell_type": "code",
   "execution_count": 2,
   "metadata": {},
   "outputs": [],
   "source": [
    "df = pd.read_csv('data/food_coded.csv')"
   ]
  },
  {
   "cell_type": "markdown",
   "metadata": {},
   "source": [
    "## Objective Questions\n",
    "\n",
    "1. Is there any correlation between favorite cuisine with the type of cuisine that the student eat growing up?\n",
    "2. What image do students associate the word 'coffee' with?\n",
    "3. What comfort food do students like?\n",
    "4. Does being employed affect students' frequency of eating out?\n",
    "5. Does more income mean more frequency of eating out?\n",
    "6. Does self perception in weight affect how students see how much calories are in food?\n",
    "7. Reasons for eating comfort food"
   ]
  },
  {
   "cell_type": "code",
   "execution_count": 53,
   "metadata": {},
   "outputs": [],
   "source": [
    "used_columns = ['calories_scone', 'coffee', 'comfort_food', 'comfort_food_reasons', 'cuisine', 'eating_out', 'employment', 'fav_cuisine_coded',\n",
    "               'income', 'self_perception_weight', 'tortilla_calories', 'waffle_calories']"
   ]
  },
  {
   "cell_type": "code",
   "execution_count": 54,
   "metadata": {},
   "outputs": [],
   "source": [
    "df_used = df[used_columns].copy()"
   ]
  },
  {
   "cell_type": "markdown",
   "metadata": {},
   "source": [
    "## Data Assessment"
   ]
  },
  {
   "cell_type": "code",
   "execution_count": 55,
   "metadata": {},
   "outputs": [
    {
     "data": {
      "text/html": [
       "<div>\n",
       "<style scoped>\n",
       "    .dataframe tbody tr th:only-of-type {\n",
       "        vertical-align: middle;\n",
       "    }\n",
       "\n",
       "    .dataframe tbody tr th {\n",
       "        vertical-align: top;\n",
       "    }\n",
       "\n",
       "    .dataframe thead th {\n",
       "        text-align: right;\n",
       "    }\n",
       "</style>\n",
       "<table border=\"1\" class=\"dataframe\">\n",
       "  <thead>\n",
       "    <tr style=\"text-align: right;\">\n",
       "      <th></th>\n",
       "      <th>calories_scone</th>\n",
       "      <th>coffee</th>\n",
       "      <th>comfort_food</th>\n",
       "      <th>comfort_food_reasons</th>\n",
       "      <th>cuisine</th>\n",
       "      <th>eating_out</th>\n",
       "      <th>employment</th>\n",
       "      <th>fav_cuisine_coded</th>\n",
       "      <th>income</th>\n",
       "      <th>self_perception_weight</th>\n",
       "      <th>tortilla_calories</th>\n",
       "      <th>waffle_calories</th>\n",
       "    </tr>\n",
       "  </thead>\n",
       "  <tbody>\n",
       "    <tr>\n",
       "      <th>0</th>\n",
       "      <td>315.0</td>\n",
       "      <td>1</td>\n",
       "      <td>none</td>\n",
       "      <td>we dont have comfort</td>\n",
       "      <td>NaN</td>\n",
       "      <td>3</td>\n",
       "      <td>3.0</td>\n",
       "      <td>3</td>\n",
       "      <td>5.0</td>\n",
       "      <td>3.0</td>\n",
       "      <td>1165.0</td>\n",
       "      <td>1315</td>\n",
       "    </tr>\n",
       "    <tr>\n",
       "      <th>1</th>\n",
       "      <td>420.0</td>\n",
       "      <td>2</td>\n",
       "      <td>chocolate, chips, ice cream</td>\n",
       "      <td>Stress, bored, anger</td>\n",
       "      <td>1.0</td>\n",
       "      <td>2</td>\n",
       "      <td>2.0</td>\n",
       "      <td>1</td>\n",
       "      <td>4.0</td>\n",
       "      <td>3.0</td>\n",
       "      <td>725.0</td>\n",
       "      <td>900</td>\n",
       "    </tr>\n",
       "    <tr>\n",
       "      <th>2</th>\n",
       "      <td>420.0</td>\n",
       "      <td>2</td>\n",
       "      <td>frozen yogurt, pizza, fast food</td>\n",
       "      <td>stress, sadness</td>\n",
       "      <td>3.0</td>\n",
       "      <td>2</td>\n",
       "      <td>3.0</td>\n",
       "      <td>1</td>\n",
       "      <td>6.0</td>\n",
       "      <td>6.0</td>\n",
       "      <td>1165.0</td>\n",
       "      <td>900</td>\n",
       "    </tr>\n",
       "    <tr>\n",
       "      <th>3</th>\n",
       "      <td>420.0</td>\n",
       "      <td>2</td>\n",
       "      <td>Pizza, Mac and cheese, ice cream</td>\n",
       "      <td>Boredom</td>\n",
       "      <td>2.0</td>\n",
       "      <td>2</td>\n",
       "      <td>3.0</td>\n",
       "      <td>3</td>\n",
       "      <td>6.0</td>\n",
       "      <td>5.0</td>\n",
       "      <td>725.0</td>\n",
       "      <td>1315</td>\n",
       "    </tr>\n",
       "    <tr>\n",
       "      <th>4</th>\n",
       "      <td>420.0</td>\n",
       "      <td>2</td>\n",
       "      <td>Ice cream, chocolate, chips</td>\n",
       "      <td>Stress, boredom, cravings</td>\n",
       "      <td>2.0</td>\n",
       "      <td>2</td>\n",
       "      <td>2.0</td>\n",
       "      <td>1</td>\n",
       "      <td>6.0</td>\n",
       "      <td>4.0</td>\n",
       "      <td>940.0</td>\n",
       "      <td>760</td>\n",
       "    </tr>\n",
       "  </tbody>\n",
       "</table>\n",
       "</div>"
      ],
      "text/plain": [
       "   calories_scone  coffee                      comfort_food  \\\n",
       "0           315.0       1                              none   \n",
       "1           420.0       2       chocolate, chips, ice cream   \n",
       "2           420.0       2   frozen yogurt, pizza, fast food   \n",
       "3           420.0       2  Pizza, Mac and cheese, ice cream   \n",
       "4           420.0       2      Ice cream, chocolate, chips    \n",
       "\n",
       "         comfort_food_reasons  cuisine  eating_out  employment  \\\n",
       "0       we dont have comfort       NaN           3         3.0   \n",
       "1        Stress, bored, anger      1.0           2         2.0   \n",
       "2             stress, sadness      3.0           2         3.0   \n",
       "3                     Boredom      2.0           2         3.0   \n",
       "4  Stress, boredom, cravings       2.0           2         2.0   \n",
       "\n",
       "   fav_cuisine_coded  income  self_perception_weight  tortilla_calories  \\\n",
       "0                  3     5.0                     3.0             1165.0   \n",
       "1                  1     4.0                     3.0              725.0   \n",
       "2                  1     6.0                     6.0             1165.0   \n",
       "3                  3     6.0                     5.0              725.0   \n",
       "4                  1     6.0                     4.0              940.0   \n",
       "\n",
       "   waffle_calories  \n",
       "0             1315  \n",
       "1              900  \n",
       "2              900  \n",
       "3             1315  \n",
       "4              760  "
      ]
     },
     "execution_count": 55,
     "metadata": {},
     "output_type": "execute_result"
    }
   ],
   "source": [
    "df_used.head()"
   ]
  },
  {
   "cell_type": "code",
   "execution_count": 56,
   "metadata": {},
   "outputs": [
    {
     "data": {
      "text/plain": [
       "(125, 12)"
      ]
     },
     "execution_count": 56,
     "metadata": {},
     "output_type": "execute_result"
    }
   ],
   "source": [
    "df_used.shape"
   ]
  },
  {
   "cell_type": "code",
   "execution_count": 57,
   "metadata": {},
   "outputs": [
    {
     "name": "stdout",
     "output_type": "stream",
     "text": [
      "<class 'pandas.core.frame.DataFrame'>\n",
      "RangeIndex: 125 entries, 0 to 124\n",
      "Data columns (total 12 columns):\n",
      "calories_scone            124 non-null float64\n",
      "coffee                    125 non-null int64\n",
      "comfort_food              124 non-null object\n",
      "comfort_food_reasons      124 non-null object\n",
      "cuisine                   108 non-null float64\n",
      "eating_out                125 non-null int64\n",
      "employment                116 non-null float64\n",
      "fav_cuisine_coded         125 non-null int64\n",
      "income                    124 non-null float64\n",
      "self_perception_weight    124 non-null float64\n",
      "tortilla_calories         124 non-null float64\n",
      "waffle_calories           125 non-null int64\n",
      "dtypes: float64(6), int64(4), object(2)\n",
      "memory usage: 11.8+ KB\n"
     ]
    }
   ],
   "source": [
    "df_used.info()"
   ]
  },
  {
   "cell_type": "code",
   "execution_count": 58,
   "metadata": {},
   "outputs": [],
   "source": [
    "missing_val_count_by_column = (df_used.isnull().sum())\n",
    "missing_cols = missing_val_count_by_column[missing_val_count_by_column > 0].index.values"
   ]
  },
  {
   "cell_type": "code",
   "execution_count": 59,
   "metadata": {},
   "outputs": [
    {
     "data": {
      "text/plain": [
       "array(['calories_scone', 'comfort_food', 'comfort_food_reasons',\n",
       "       'cuisine', 'employment', 'income', 'self_perception_weight',\n",
       "       'tortilla_calories'], dtype=object)"
      ]
     },
     "execution_count": 59,
     "metadata": {},
     "output_type": "execute_result"
    }
   ],
   "source": [
    "missing_cols"
   ]
  },
  {
   "cell_type": "code",
   "execution_count": 61,
   "metadata": {},
   "outputs": [
    {
     "name": "stdout",
     "output_type": "stream",
     "text": [
      "calories_scone \n",
      " 420.0    79\n",
      "980.0    23\n",
      "315.0    22\n",
      "Name: calories_scone, dtype: int64 \n",
      "\n",
      "coffee \n",
      " 2    94\n",
      "1    31\n",
      "Name: coffee, dtype: int64 \n",
      "\n",
      "cuisine \n",
      " 1.0    86\n",
      "2.0    13\n",
      "4.0     3\n",
      "3.0     3\n",
      "6.0     2\n",
      "5.0     1\n",
      "Name: cuisine, dtype: int64 \n",
      "\n",
      "eating_out \n",
      " 2    60\n",
      "3    24\n",
      "1    16\n",
      "4    13\n",
      "5    12\n",
      "Name: eating_out, dtype: int64 \n",
      "\n",
      "employment \n",
      " 2.0    60\n",
      "3.0    54\n",
      "1.0     2\n",
      "Name: employment, dtype: int64 \n",
      "\n",
      "fav_cuisine_coded \n",
      " 1    59\n",
      "4    22\n",
      "5    15\n",
      "2    15\n",
      "0     6\n",
      "8     4\n",
      "3     2\n",
      "7     1\n",
      "6     1\n",
      "Name: fav_cuisine_coded, dtype: int64 \n",
      "\n",
      "income \n",
      " 6.0    41\n",
      "5.0    33\n",
      "4.0    20\n",
      "3.0    17\n",
      "2.0     7\n",
      "1.0     6\n",
      "Name: income, dtype: int64 \n",
      "\n",
      "self_perception_weight \n",
      " 3.0    45\n",
      "2.0    31\n",
      "4.0    31\n",
      "1.0     6\n",
      "5.0     6\n",
      "6.0     5\n",
      "Name: self_perception_weight, dtype: int64 \n",
      "\n",
      "tortilla_calories \n",
      " 1165.0    46\n",
      "940.0     43\n",
      "725.0     22\n",
      "580.0     13\n",
      "Name: tortilla_calories, dtype: int64 \n",
      "\n",
      "waffle_calories \n",
      " 1315    62\n",
      "900     38\n",
      "760     22\n",
      "575      3\n",
      "Name: waffle_calories, dtype: int64 \n",
      "\n"
     ]
    }
   ],
   "source": [
    "for col in used_columns:\n",
    "    if col == 'comfort_food' or col == 'comfort_food_reasons':\n",
    "        continue\n",
    "    print(col, '\\n', df_used[col].value_counts(), '\\n')"
   ]
  },
  {
   "cell_type": "markdown",
   "metadata": {},
   "source": [
    "## Data Cleaning"
   ]
  },
  {
   "cell_type": "markdown",
   "metadata": {},
   "source": [
    "### Quality\n",
    "\n",
    "* Some columns have missing data, the column names with missing values are saved as `missing_cols`. As we will do exploratory with visualization, imputing the missing values will give wrong visualization. Thus rows with missing values will be removed on the go during the visual creation. We will fill missing vals with -99 for identification\n",
    "* calories_scone is ordinal, it will be converted to 1: 107, 2: 315, 3: 420, 4: 980\n",
    "* tortilla_calories is ordinal, it will be converted to 1: 520, 2: 725, 3: 940, 4: 1165\n",
    "* waffle_calories is ordinal, it will be converted to 1: 575, 2:760, 3:900, 4:1315    "
   ]
  },
  {
   "cell_type": "markdown",
   "metadata": {},
   "source": [
    "### Tidiness\n",
    "\n",
    "* There are 2 columns with similar info, comfort_food_reasons_coded.1 and comfort_food_reasons_coded. However the data is inconsistent, as such we will extract the comfort_food_reasons on our own\n"
   ]
  },
  {
   "cell_type": "code",
   "execution_count": 62,
   "metadata": {},
   "outputs": [],
   "source": [
    "df_clean = df_used.copy()"
   ]
  },
  {
   "cell_type": "code",
   "execution_count": 63,
   "metadata": {},
   "outputs": [],
   "source": [
    "def convert_calories_scone(x):\n",
    "    if x == 107:\n",
    "        return 1\n",
    "    if x == 315:\n",
    "        return 2\n",
    "    if x == 420:\n",
    "        return 3\n",
    "    if x == 980:\n",
    "        return 4\n",
    "    # indicate missing values\n",
    "    return -99\n",
    "\n",
    "def convert_tortilla_calories(x):\n",
    "    if x == 520:\n",
    "        return 1\n",
    "    if x == 725:\n",
    "        return 2\n",
    "    if x == 940:\n",
    "        return 3\n",
    "    if x == 1165:\n",
    "        return 4\n",
    "    # indicate missing values\n",
    "    return -99\n",
    "\n",
    "def convert_waffle_calories(x):\n",
    "    if x == 575:\n",
    "        return 1\n",
    "    if x == 760:\n",
    "        return 2\n",
    "    if x == 900:\n",
    "        return 3\n",
    "    if x == 1315:\n",
    "        return 4\n",
    "    # indicate missing values\n",
    "    return -99"
   ]
  },
  {
   "cell_type": "code",
   "execution_count": 64,
   "metadata": {},
   "outputs": [],
   "source": [
    "# Convert to ordinal\n",
    "df_clean['calories_scone'] = df_clean['calories_scone'].apply(convert_calories_scone)"
   ]
  },
  {
   "cell_type": "code",
   "execution_count": 67,
   "metadata": {},
   "outputs": [
    {
     "data": {
      "text/plain": [
       " 3     79\n",
       " 4     23\n",
       " 2     22\n",
       "-99     1\n",
       "Name: calories_scone, dtype: int64"
      ]
     },
     "execution_count": 67,
     "metadata": {},
     "output_type": "execute_result"
    }
   ],
   "source": [
    "df_clean['calories_scone'].value_counts()"
   ]
  },
  {
   "cell_type": "code",
   "execution_count": 65,
   "metadata": {},
   "outputs": [],
   "source": [
    "df_clean['tortilla_calories'] = df_clean['tortilla_calories'].apply(convert_tortilla_calories)"
   ]
  },
  {
   "cell_type": "code",
   "execution_count": 68,
   "metadata": {},
   "outputs": [
    {
     "data": {
      "text/plain": [
       " 4     46\n",
       " 3     43\n",
       " 2     22\n",
       "-99    14\n",
       "Name: tortilla_calories, dtype: int64"
      ]
     },
     "execution_count": 68,
     "metadata": {},
     "output_type": "execute_result"
    }
   ],
   "source": [
    "df_clean['tortilla_calories'].value_counts()"
   ]
  },
  {
   "cell_type": "code",
   "execution_count": 66,
   "metadata": {},
   "outputs": [],
   "source": [
    "df_clean['waffle_calories'] = df_clean['waffle_calories'].apply(convert_waffle_calories)"
   ]
  },
  {
   "cell_type": "code",
   "execution_count": 69,
   "metadata": {},
   "outputs": [
    {
     "data": {
      "text/plain": [
       "4    62\n",
       "3    38\n",
       "2    22\n",
       "1     3\n",
       "Name: waffle_calories, dtype: int64"
      ]
     },
     "execution_count": 69,
     "metadata": {},
     "output_type": "execute_result"
    }
   ],
   "source": [
    "df_clean['waffle_calories'].value_counts()"
   ]
  },
  {
   "cell_type": "code",
   "execution_count": 73,
   "metadata": {},
   "outputs": [],
   "source": [
    "# fill missing values with -99 for numerical\n",
    "for col in used_columns:\n",
    "    if col == 'comfort_food' or col == 'comfort_food_reasons':\n",
    "        continue\n",
    "    df_clean[col].fillna(-99, inplace=True)"
   ]
  },
  {
   "cell_type": "code",
   "execution_count": 74,
   "metadata": {},
   "outputs": [
    {
     "data": {
      "text/plain": [
       "calories_scone            0\n",
       "coffee                    0\n",
       "comfort_food              1\n",
       "comfort_food_reasons      1\n",
       "cuisine                   0\n",
       "eating_out                0\n",
       "employment                0\n",
       "fav_cuisine_coded         0\n",
       "income                    0\n",
       "self_perception_weight    0\n",
       "tortilla_calories         0\n",
       "waffle_calories           0\n",
       "dtype: int64"
      ]
     },
     "execution_count": 74,
     "metadata": {},
     "output_type": "execute_result"
    }
   ],
   "source": [
    "df_clean.isnull().sum()"
   ]
  },
  {
   "cell_type": "code",
   "execution_count": 76,
   "metadata": {},
   "outputs": [
    {
     "data": {
      "text/plain": [
       "0                                                  none\n",
       "1                           chocolate, chips, ice cream\n",
       "2                       frozen yogurt, pizza, fast food\n",
       "3                      Pizza, Mac and cheese, ice cream\n",
       "4                          Ice cream, chocolate, chips \n",
       "5                             Candy, brownies and soda.\n",
       "6          Chocolate, ice cream, french fries, pretzels\n",
       "7                      Ice cream, cheeseburgers, chips.\n",
       "8                              Donuts, ice cream, chips\n",
       "9                 Mac and cheese, chocolate, and pasta \n",
       "10    Pasta, grandma homemade chocolate cake anythin...\n",
       "11               chocolate, pasta, soup, chips, popcorn\n",
       "12                          Cookies, popcorn, and chips\n",
       "13                           ice cream, cake, chocolate\n",
       "14      Pizza, fruit, spaghetti, chicken and Potatoes  \n",
       "15                          cookies, donuts, candy bars\n",
       "16                         Saltfish, Candy and Kit Kat \n",
       "17                            chips, cookies, ice cream\n",
       "18                                 Chocolate, ice crea \n",
       "19                                pizza, wings, Chinese\n",
       "Name: comfort_food, dtype: object"
      ]
     },
     "execution_count": 76,
     "metadata": {},
     "output_type": "execute_result"
    }
   ],
   "source": [
    "df_clean['comfort_food'].head(20)"
   ]
  },
  {
   "cell_type": "code",
   "execution_count": null,
   "metadata": {},
   "outputs": [],
   "source": [
    "# join all rows in the comfort food into a single vector\n",
    "# get most frequent food mentioned\n",
    "# get only first fav food mentioned"
   ]
  },
  {
   "cell_type": "code",
   "execution_count": null,
   "metadata": {},
   "outputs": [],
   "source": []
  }
 ],
 "metadata": {
  "kernelspec": {
   "display_name": "Python 3",
   "language": "python",
   "name": "python3"
  },
  "language_info": {
   "codemirror_mode": {
    "name": "ipython",
    "version": 3
   },
   "file_extension": ".py",
   "mimetype": "text/x-python",
   "name": "python",
   "nbconvert_exporter": "python",
   "pygments_lexer": "ipython3",
   "version": "3.7.3"
  }
 },
 "nbformat": 4,
 "nbformat_minor": 2
}
